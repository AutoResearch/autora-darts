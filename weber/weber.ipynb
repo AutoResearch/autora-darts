{
 "cells": [
  {
   "cell_type": "markdown",
   "source": [
    "Example file which shows some simple curve fitting using DARTSRegressor and some other estimators."
   ],
   "metadata": {}
  },
  {
   "cell_type": "code",
   "execution_count": 1,
   "outputs": [],
   "source": [
    "# Uncomment the following line when running on Google Colab\n",
    "# !pip install autora[theorist-darts]"
   ],
   "metadata": {
    "collapsed": false,
    "ExecuteTime": {
     "start_time": "2023-04-27T14:49:28.191526Z",
     "end_time": "2023-04-27T14:49:28.193162Z"
    }
   }
  },
  {
   "cell_type": "code",
   "execution_count": 2,
   "outputs": [
    {
     "ename": "ImportError",
     "evalue": "cannot import name 'data' from partially initialized module 'autora.synthetic' (most likely due to a circular import) (/Users/jholla10/Developer/autora-darts/venv/lib/python3.8/site-packages/autora/synthetic/__init__.py)",
     "output_type": "error",
     "traceback": [
      "\u001B[0;31m---------------------------------------------------------------------------\u001B[0m",
      "\u001B[0;31mImportError\u001B[0m                               Traceback (most recent call last)",
      "Cell \u001B[0;32mIn[2], line 12\u001B[0m\n\u001B[1;32m      9\u001B[0m \u001B[38;5;28;01mfrom\u001B[39;00m \u001B[38;5;21;01msklearn\u001B[39;00m\u001B[38;5;21;01m.\u001B[39;00m\u001B[38;5;21;01mpreprocessing\u001B[39;00m \u001B[38;5;28;01mimport\u001B[39;00m PolynomialFeatures\n\u001B[1;32m     11\u001B[0m \u001B[38;5;28;01mfrom\u001B[39;00m \u001B[38;5;21;01mautora\u001B[39;00m\u001B[38;5;21;01m.\u001B[39;00m\u001B[38;5;21;01mtheorist\u001B[39;00m\u001B[38;5;21;01m.\u001B[39;00m\u001B[38;5;21;01mdarts\u001B[39;00m \u001B[38;5;28;01mimport\u001B[39;00m DARTSRegressor\n\u001B[0;32m---> 12\u001B[0m \u001B[38;5;28;01mfrom\u001B[39;00m \u001B[38;5;21;01mautora\u001B[39;00m\u001B[38;5;21;01m.\u001B[39;00m\u001B[38;5;21;01msynthetic\u001B[39;00m \u001B[38;5;28;01mimport\u001B[39;00m retrieve, describe\n",
      "File \u001B[0;32m~/Developer/autora-darts/venv/lib/python3.8/site-packages/autora/synthetic/__init__.py:70\u001B[0m\n\u001B[1;32m      1\u001B[0m \u001B[38;5;124;03m\"\"\"\u001B[39;00m\n\u001B[1;32m      2\u001B[0m \u001B[38;5;124;03mProvides an interface for loading and saving synthetic experiments.\u001B[39;00m\n\u001B[1;32m      3\u001B[0m \n\u001B[0;32m   (...)\u001B[0m\n\u001B[1;32m     67\u001B[0m \u001B[38;5;124;03m    array([-0.53610647,  0.58457307])\u001B[39;00m\n\u001B[1;32m     68\u001B[0m \u001B[38;5;124;03m\"\"\"\u001B[39;00m\n\u001B[0;32m---> 70\u001B[0m \u001B[38;5;28;01mfrom\u001B[39;00m \u001B[38;5;21;01mautora\u001B[39;00m\u001B[38;5;21;01m.\u001B[39;00m\u001B[38;5;21;01msynthetic\u001B[39;00m \u001B[38;5;28;01mimport\u001B[39;00m data\n\u001B[1;32m     71\u001B[0m \u001B[38;5;28;01mfrom\u001B[39;00m \u001B[38;5;21;01mautora\u001B[39;00m\u001B[38;5;21;01m.\u001B[39;00m\u001B[38;5;21;01msynthetic\u001B[39;00m\u001B[38;5;21;01m.\u001B[39;00m\u001B[38;5;21;01minventory\u001B[39;00m \u001B[38;5;28;01mimport\u001B[39;00m (\n\u001B[1;32m     72\u001B[0m     Inventory,\n\u001B[1;32m     73\u001B[0m     SyntheticExperimentCollection,\n\u001B[0;32m   (...)\u001B[0m\n\u001B[1;32m     76\u001B[0m     retrieve,\n\u001B[1;32m     77\u001B[0m )\n",
      "\u001B[0;31mImportError\u001B[0m: cannot import name 'data' from partially initialized module 'autora.synthetic' (most likely due to a circular import) (/Users/jholla10/Developer/autora-darts/venv/lib/python3.8/site-packages/autora/synthetic/__init__.py)"
     ]
    }
   ],
   "source": [
    "from functools import partial\n",
    "\n",
    "import matplotlib.pyplot as plt\n",
    "import numpy as np\n",
    "import pandas as pd\n",
    "from sklearn.linear_model import LinearRegression\n",
    "from sklearn.model_selection import GridSearchCV\n",
    "from sklearn.pipeline import make_pipeline\n",
    "from sklearn.preprocessing import PolynomialFeatures\n",
    "\n",
    "from autora.theorist.darts import DARTSRegressor\n",
    "from autora.synthetic import retrieve, describe"
   ],
   "metadata": {}
  },
  {
   "cell_type": "code",
   "execution_count": null,
   "metadata": {},
   "outputs": [],
   "source": [
    "# %% Define some helper functions\n",
    "\n",
    "def show_results_complete(\n",
    "    data_: pd.DataFrame,\n",
    "    estimator=None,\n",
    "    show_results=True,\n",
    "    projection=\"2d\",\n",
    "    label=None,\n",
    "):\n",
    "    \"\"\"\n",
    "    Function to plot input data (x_, y_) and the predictions of an estimator for the same x_.\n",
    "    \"\"\"\n",
    "    if projection == \"2d\":\n",
    "        plt.figure()\n",
    "        data_.plot.scatter(\n",
    "            \"S1\", \"S2\", c=\"difference_detected\", cmap=\"viridis\", zorder=10\n",
    "        )\n",
    "    elif projection == \"3d\":\n",
    "        fig = plt.figure()\n",
    "        ax = fig.add_subplot(projection=\"3d\")\n",
    "        ax.scatter(data_[\"S1\"], data[\"S2\"], data[\"difference_detected\"])\n",
    "\n",
    "        if estimator is not None:\n",
    "            xs, ys = np.mgrid[0:5:0.2, 0:5:0.2]  # type: ignore\n",
    "\n",
    "            zs = estimator.predict(np.column_stack((xs.ravel(), ys.ravel())))\n",
    "\n",
    "            ax.plot_surface(xs, ys, zs.reshape(xs.shape), alpha=0.5)\n",
    "\n",
    "    if label is not None:\n",
    "        plt.title(label)\n",
    "\n",
    "    if show_results:\n",
    "        plt.show()\n",
    "\n",
    "    return\n"
   ]
  },
  {
   "cell_type": "code",
   "execution_count": null,
   "outputs": [],
   "source": [
    "# %% Load the data\n",
    "s = retrieve(\"weber_fechner\",rng=np.random.default_rng(seed=180), resolution=20)\n",
    "X = s.domain()\n",
    "y = s.experiment_runner(X)\n",
    "data = pd.DataFrame(np.column_stack([X, y]), columns=[\"S1\", \"S2\", \"difference_detected\"])"
   ],
   "metadata": {
    "collapsed": false
   }
  },
  {
   "cell_type": "code",
   "execution_count": null,
   "outputs": [],
   "source": [
    "show_results = partial(show_results_complete, data_=data, projection=\"3d\")\n",
    "show_results(label=\"input data\")"
   ],
   "metadata": {
    "collapsed": false
   }
  },
  {
   "cell_type": "code",
   "execution_count": null,
   "metadata": {},
   "outputs": [],
   "source": [
    "# %% Fit first using a super-simple linear regression\n",
    "\n",
    "first_order_linear_estimator = LinearRegression()\n",
    "first_order_linear_estimator.fit(X, y)\n",
    "\n",
    "show_results(estimator=first_order_linear_estimator, label=\"1st order linear\")"
   ]
  },
  {
   "cell_type": "code",
   "execution_count": null,
   "metadata": {},
   "outputs": [],
   "source": [
    "# %% Fit using a 0-3 order polynomial, getting the best fit for the data.\n",
    "polynomial_estimator = GridSearchCV(\n",
    "    make_pipeline(PolynomialFeatures(), LinearRegression(fit_intercept=False)),\n",
    "    param_grid=dict(polynomialfeatures__degree=range(4)),\n",
    ")\n",
    "polynomial_estimator.fit(X, y)\n",
    "\n",
    "show_results(estimator=polynomial_estimator, label=\"[0th-3rd]-order linear\")"
   ]
  },
  {
   "cell_type": "code",
   "execution_count": null,
   "outputs": [],
   "source": [
    "darts_estimator_tuned = DARTSRegressor(\n",
    "    batch_size=64,\n",
    "    arch_updates_per_epoch=100,\n",
    "    param_updates_per_epoch=100,\n",
    "    max_epochs=30,\n",
    "    output_type=\"probability\",\n",
    "    num_graph_nodes=5,\n",
    "    primitives=[\n",
    "        \"none\",\n",
    "        \"linear\",\n",
    "        \"logistic\",\n",
    "        ]\n",
    ")\n",
    "\n",
    "darts_estimator_tuned.fit(X, y)\n",
    "\n",
    "show_results(estimator=darts_estimator_tuned, label=\"pre-tuned DARTSRegressor\")\n",
    "darts_estimator_tuned.visualize_model()"
   ],
   "metadata": {
    "collapsed": false
   }
  },
  {
   "cell_type": "code",
   "execution_count": null,
   "outputs": [],
   "source": [
    "darts_estimator_tuned.set_params(\n",
    "    arch_updates_per_epoch=0,\n",
    "    param_updates_per_epoch=1000,\n",
    "    sampling_strategy=\"sample\",\n",
    "    max_epochs=1\n",
    ")\n",
    "darts_estimator_tuned.fit(X, y)\n",
    "show_results(estimator=darts_estimator_tuned, label=\"resampled DARTSRegressor\")\n",
    "darts_estimator_tuned.visualize_model()\n"
   ],
   "metadata": {
    "collapsed": false
   }
  },
  {
   "cell_type": "code",
   "execution_count": null,
   "outputs": [],
   "source": [
    "darts_estimator_tuned.set_params(\n",
    "    arch_updates_per_epoch=0,\n",
    "    param_updates_per_epoch=1000,\n",
    "    sampling_strategy=\"max\",\n",
    "    max_epochs=0\n",
    ")\n",
    "darts_estimator_tuned.fit(X, y)\n",
    "show_results(estimator=darts_estimator_tuned, label=\"resampled DARTSRegressor\")\n",
    "darts_estimator_tuned.visualize_model()\n"
   ],
   "metadata": {
    "collapsed": false
   }
  }
 ],
 "metadata": {
  "kernelspec": {
   "display_name": "Python 3 (ipykernel)",
   "language": "python",
   "name": "python3"
  },
  "language_info": {
   "codemirror_mode": {
    "name": "ipython",
    "version": 3
   },
   "file_extension": ".py",
   "mimetype": "text/x-python",
   "name": "python",
   "nbconvert_exporter": "python",
   "pygments_lexer": "ipython3",
   "version": "3.8.13"
  }
 },
 "nbformat": 4,
 "nbformat_minor": 1
}
