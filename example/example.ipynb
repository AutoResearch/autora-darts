{
 "cells": [
  {
   "cell_type": "markdown",
   "source": [
    "# Differentiable Architecture Search\n",
    "\n",
    "## Example"
   ],
   "metadata": {
    "collapsed": false
   }
  },
  {
   "cell_type": "code",
   "execution_count": 1,
   "outputs": [],
   "source": [
    "# Uncomment the following line when running on Google Colab\n",
    "# !pip install autora[theorist-darts]"
   ],
   "metadata": {
    "collapsed": false,
    "ExecuteTime": {
     "start_time": "2023-04-27T15:43:55.051577Z",
     "end_time": "2023-04-27T15:43:55.055694Z"
    }
   }
  },
  {
   "cell_type": "markdown",
   "source": [
    "Let's generate a simple data set with two features $x_1, x_2 \\in [0, 1]$ and a target $y$. We will use the following generative model:\n",
    "$y = 2 x_1 - e^{(5 x_2)}$"
   ],
   "metadata": {
    "collapsed": false
   }
  },
  {
   "cell_type": "code",
   "execution_count": 2,
   "metadata": {
    "collapsed": true,
    "ExecuteTime": {
     "start_time": "2023-04-27T15:43:55.061115Z",
     "end_time": "2023-04-27T15:43:55.142304Z"
    }
   },
   "outputs": [],
   "source": [
    "import numpy as np\n",
    "\n",
    "x_1 = np.linspace(0, 1, num=10)\n",
    "x_2 = np.linspace(0, 1, num=10)\n",
    "X = np.array(np.meshgrid(x_1, x_2)).T.reshape(-1,2)\n",
    "\n",
    "y = 2 * X[:,0] + np.exp(5 * X[:,1])"
   ]
  },
  {
   "cell_type": "markdown",
   "source": [
    "Now let us define the search space, that is, the space of operations to consider when searching over the space of computation graphs."
   ],
   "metadata": {
    "collapsed": false
   }
  },
  {
   "cell_type": "code",
   "execution_count": 3,
   "outputs": [],
   "source": [
    "primitives = [\n",
    "    \"none\",\n",
    "    \"add\",\n",
    "    \"subtract\",\n",
    "    'mult',\n",
    "    \"logistic\",\n",
    "    'exp',\n",
    "    'relu',\n",
    "]"
   ],
   "metadata": {
    "collapsed": false,
    "ExecuteTime": {
     "start_time": "2023-04-27T15:43:55.152314Z",
     "end_time": "2023-04-27T15:43:55.166752Z"
    }
   }
  },
  {
   "cell_type": "markdown",
   "source": [
    "## Set up the DARTS Regressor\n",
    "\n",
    "We will use the DARTS Regressor to predict the outcomes. There are a number of parameters that determine how the architecture search is performed. The most important ones are listed below:\n",
    "\n",
    "- **num_graph_nodes**: The number of latent variables used to represent the model.\n",
    "- **arch_updates_per_epoch**: The number of architecture updates per training epoch. These updates affect the architecture weights $\\alpha$ indicating the relative contribution of each operation for a given computation step.\n",
    "- **arch_learning_rate_max**: The initial learning rate of the architecture weight optimizer.\n",
    "- **param_updates_per_epoch**: The number of parameter updates per epoch. Once the architecture updates are complete, the parameters associated with each operation are updated.\n",
    "- **param_momentum**: The momentum of the parameter optimizer.\n",
    "- **max_epochs**: The maximum number of epochs to run DARTS.\n",
    "- **output_type**: The type of output to produce. In our case, we treat the outcome as a real variable, i.e., \"real\".\n",
    "\n",
    "\n",
    "Let's set up the DARTS regressor with some default parameters.\n"
   ],
   "metadata": {
    "collapsed": false
   }
  },
  {
   "cell_type": "code",
   "execution_count": 4,
   "outputs": [],
   "source": [
    "from autora.theorist.darts import DARTSRegressor\n",
    "\n",
    "darts_estimator = DARTSRegressor(\n",
    "    num_graph_nodes=1,\n",
    "    arch_updates_per_epoch=1,\n",
    "    arch_learning_rate_max=0.001,\n",
    "    param_updates_per_epoch=500,\n",
    "    param_momentum=0.9,\n",
    "    max_epochs=300,\n",
    "    output_type=\"real\",\n",
    "    primitives=primitives,\n",
    ")"
   ],
   "metadata": {
    "collapsed": false,
    "ExecuteTime": {
     "start_time": "2023-04-27T15:43:55.166195Z",
     "end_time": "2023-04-27T15:43:56.324586Z"
    }
   }
  },
  {
   "cell_type": "markdown",
   "source": [
    "Now we have everything to run differentiable architecture search and visualize the model resulting from the highest architecture weights. Note that the current model corresponds to the model with the highest architecture weights."
   ],
   "metadata": {
    "collapsed": false
   }
  },
  {
   "cell_type": "code",
   "execution_count": 5,
   "outputs": [
    {
     "data": {
      "text/plain": "  0%|          | 0/300 [00:00<?, ?it/s]",
      "application/vnd.jupyter.widget-view+json": {
       "version_major": 2,
       "version_minor": 0,
       "model_id": "14c3ef2cd7f54e4592f7fe2227672f9a"
      }
     },
     "metadata": {},
     "output_type": "display_data"
    },
    {
     "data": {
      "image/svg+xml": "<?xml version=\"1.0\" encoding=\"UTF-8\" standalone=\"no\"?>\n<!DOCTYPE svg PUBLIC \"-//W3C//DTD SVG 1.1//EN\"\n \"http://www.w3.org/Graphics/SVG/1.1/DTD/svg11.dtd\">\n<!-- Generated by graphviz version 8.0.4 (20230421.1958)\n -->\n<!-- Pages: 1 -->\n<svg width=\"503pt\" height=\"98pt\"\n viewBox=\"0.00 0.00 503.00 98.00\" xmlns=\"http://www.w3.org/2000/svg\" xmlns:xlink=\"http://www.w3.org/1999/xlink\">\n<g id=\"graph0\" class=\"graph\" transform=\"scale(1 1) rotate(0) translate(4 94)\">\n<polygon fill=\"white\" stroke=\"none\" points=\"-4,4 -4,-94 499,-94 499,4 -4,4\"/>\n<!-- x1 -->\n<g id=\"node1\" class=\"node\">\n<title>x1</title>\n<polygon fill=\"#f1edb9\" stroke=\"black\" stroke-width=\"2\" points=\"37,-90 0,-90 0,-54 37,-54 37,-90\"/>\n<text text-anchor=\"middle\" x=\"18.5\" y=\"-63.5\" font-family=\"times\" font-size=\"20.00\">x1</text>\n</g>\n<!-- k1 -->\n<g id=\"node3\" class=\"node\">\n<title>k1</title>\n<polygon fill=\"#bbccf9\" stroke=\"black\" stroke-width=\"2\" points=\"165.5,-63 128.5,-63 128.5,-27 165.5,-27 165.5,-63\"/>\n<text text-anchor=\"middle\" x=\"147\" y=\"-36.5\" font-family=\"times\" font-size=\"20.00\">k1</text>\n</g>\n<!-- x1&#45;&gt;k1 -->\n<g id=\"edge1\" class=\"edge\">\n<title>x1&#45;&gt;k1</title>\n<path fill=\"none\" stroke=\"black\" d=\"M37.89,-68.07C58.6,-63.65 92.52,-56.42 116.84,-51.22\"/>\n<polygon fill=\"gray\" stroke=\"black\" points=\"117.53,-54.44 126.58,-48.93 116.07,-47.6 117.53,-54.44\"/>\n<text text-anchor=\"middle\" x=\"82.75\" y=\"-66\" font-family=\"times\" font-size=\"20.00\">exp(x)</text>\n</g>\n<!-- x2 -->\n<g id=\"node2\" class=\"node\">\n<title>x2</title>\n<polygon fill=\"#f1edb9\" stroke=\"black\" stroke-width=\"2\" points=\"37,-36 0,-36 0,0 37,0 37,-36\"/>\n<text text-anchor=\"middle\" x=\"18.5\" y=\"-9.5\" font-family=\"times\" font-size=\"20.00\">x2</text>\n</g>\n<!-- x2&#45;&gt;k1 -->\n<g id=\"edge2\" class=\"edge\">\n<title>x2&#45;&gt;k1</title>\n<path fill=\"none\" stroke=\"black\" d=\"M37.66,-17.84C56.3,-18.13 85.96,-19.84 110.5,-27 112.96,-27.72 115.46,-28.61 117.92,-29.6\"/>\n<polygon fill=\"gray\" stroke=\"black\" points=\"116.2,-33.12 126.74,-34.12 119.12,-26.76 116.2,-33.12\"/>\n<text text-anchor=\"middle\" x=\"82.75\" y=\"-29\" font-family=\"times\" font-size=\"20.00\">exp(x)</text>\n</g>\n<!-- P(detected) = (x + 0.00) -->\n<g id=\"node4\" class=\"node\">\n<title>P(detected) = (x + 0.00)</title>\n<polygon fill=\"#cbe7c7\" stroke=\"black\" stroke-width=\"2\" points=\"495,-63 268.25,-63 268.25,-27 495,-27 495,-63\"/>\n<text text-anchor=\"middle\" x=\"381.62\" y=\"-36.5\" font-family=\"times\" font-size=\"20.00\">P(detected) = (x + 0.00)</text>\n</g>\n<!-- k1&#45;&gt;P(detected) = (x + 0.00) -->\n<g id=\"edge3\" class=\"edge\">\n<title>k1&#45;&gt;P(detected) = (x + 0.00)</title>\n<path fill=\"none\" stroke=\"black\" d=\"M166.25,-45C186.58,-45 221.29,-45 256.92,-45\"/>\n<polygon fill=\"gray\" stroke=\"black\" points=\"256.49,-48.5 266.49,-45 256.49,-41.5 256.49,-48.5\"/>\n<text text-anchor=\"middle\" x=\"216.88\" y=\"-47\" font-family=\"times\" font-size=\"20.00\">1.00 * x</text>\n</g>\n</g>\n</svg>\n",
      "text/plain": "<graphviz.graphs.Digraph at 0x1779ce090>"
     },
     "execution_count": 5,
     "metadata": {},
     "output_type": "execute_result"
    }
   ],
   "source": [
    "darts_estimator.fit(X, y)\n",
    "darts_estimator.visualize_model()"
   ],
   "metadata": {
    "collapsed": false,
    "ExecuteTime": {
     "start_time": "2023-04-27T15:43:56.326379Z",
     "end_time": "2023-04-27T15:43:56.738070Z"
    }
   }
  },
  {
   "cell_type": "markdown",
   "source": [
    "We can refine the fit by running the `fit` method again, after changing the parameters. This allows us to keep the same architecture but refit the parameters in the final sampled model, for example:"
   ],
   "metadata": {
    "collapsed": false
   }
  },
  {
   "cell_type": "code",
   "execution_count": 6,
   "outputs": [
    {
     "data": {
      "text/plain": "0it [00:00, ?it/s]",
      "application/vnd.jupyter.widget-view+json": {
       "version_major": 2,
       "version_minor": 0,
       "model_id": "d04e91df79794efbae55e25a05adefa7"
      }
     },
     "metadata": {},
     "output_type": "display_data"
    },
    {
     "data": {
      "image/svg+xml": "<?xml version=\"1.0\" encoding=\"UTF-8\" standalone=\"no\"?>\n<!DOCTYPE svg PUBLIC \"-//W3C//DTD SVG 1.1//EN\"\n \"http://www.w3.org/Graphics/SVG/1.1/DTD/svg11.dtd\">\n<!-- Generated by graphviz version 8.0.4 (20230421.1958)\n -->\n<!-- Pages: 1 -->\n<svg width=\"503pt\" height=\"98pt\"\n viewBox=\"0.00 0.00 503.00 98.00\" xmlns=\"http://www.w3.org/2000/svg\" xmlns:xlink=\"http://www.w3.org/1999/xlink\">\n<g id=\"graph0\" class=\"graph\" transform=\"scale(1 1) rotate(0) translate(4 94)\">\n<polygon fill=\"white\" stroke=\"none\" points=\"-4,4 -4,-94 499,-94 499,4 -4,4\"/>\n<!-- x1 -->\n<g id=\"node1\" class=\"node\">\n<title>x1</title>\n<polygon fill=\"#f1edb9\" stroke=\"black\" stroke-width=\"2\" points=\"37,-90 0,-90 0,-54 37,-54 37,-90\"/>\n<text text-anchor=\"middle\" x=\"18.5\" y=\"-63.5\" font-family=\"times\" font-size=\"20.00\">x1</text>\n</g>\n<!-- k1 -->\n<g id=\"node3\" class=\"node\">\n<title>k1</title>\n<polygon fill=\"#bbccf9\" stroke=\"black\" stroke-width=\"2\" points=\"165.5,-63 128.5,-63 128.5,-27 165.5,-27 165.5,-63\"/>\n<text text-anchor=\"middle\" x=\"147\" y=\"-36.5\" font-family=\"times\" font-size=\"20.00\">k1</text>\n</g>\n<!-- x1&#45;&gt;k1 -->\n<g id=\"edge1\" class=\"edge\">\n<title>x1&#45;&gt;k1</title>\n<path fill=\"none\" stroke=\"black\" d=\"M37.89,-68.07C58.6,-63.65 92.52,-56.42 116.84,-51.22\"/>\n<polygon fill=\"gray\" stroke=\"black\" points=\"117.53,-54.44 126.58,-48.93 116.07,-47.6 117.53,-54.44\"/>\n<text text-anchor=\"middle\" x=\"82.75\" y=\"-66\" font-family=\"times\" font-size=\"20.00\">exp(x)</text>\n</g>\n<!-- x2 -->\n<g id=\"node2\" class=\"node\">\n<title>x2</title>\n<polygon fill=\"#f1edb9\" stroke=\"black\" stroke-width=\"2\" points=\"37,-36 0,-36 0,0 37,0 37,-36\"/>\n<text text-anchor=\"middle\" x=\"18.5\" y=\"-9.5\" font-family=\"times\" font-size=\"20.00\">x2</text>\n</g>\n<!-- x2&#45;&gt;k1 -->\n<g id=\"edge2\" class=\"edge\">\n<title>x2&#45;&gt;k1</title>\n<path fill=\"none\" stroke=\"black\" d=\"M37.66,-17.84C56.3,-18.13 85.96,-19.84 110.5,-27 112.96,-27.72 115.46,-28.61 117.92,-29.6\"/>\n<polygon fill=\"gray\" stroke=\"black\" points=\"116.2,-33.12 126.74,-34.12 119.12,-26.76 116.2,-33.12\"/>\n<text text-anchor=\"middle\" x=\"82.75\" y=\"-29\" font-family=\"times\" font-size=\"20.00\">exp(x)</text>\n</g>\n<!-- P(detected) = (x + 0.00) -->\n<g id=\"node4\" class=\"node\">\n<title>P(detected) = (x + 0.00)</title>\n<polygon fill=\"#cbe7c7\" stroke=\"black\" stroke-width=\"2\" points=\"495,-63 268.25,-63 268.25,-27 495,-27 495,-63\"/>\n<text text-anchor=\"middle\" x=\"381.62\" y=\"-36.5\" font-family=\"times\" font-size=\"20.00\">P(detected) = (x + 0.00)</text>\n</g>\n<!-- k1&#45;&gt;P(detected) = (x + 0.00) -->\n<g id=\"edge3\" class=\"edge\">\n<title>k1&#45;&gt;P(detected) = (x + 0.00)</title>\n<path fill=\"none\" stroke=\"black\" d=\"M166.25,-45C186.58,-45 221.29,-45 256.92,-45\"/>\n<polygon fill=\"gray\" stroke=\"black\" points=\"256.49,-48.5 266.49,-45 256.49,-41.5 256.49,-48.5\"/>\n<text text-anchor=\"middle\" x=\"216.88\" y=\"-47\" font-family=\"times\" font-size=\"20.00\">1.00 * x</text>\n</g>\n</g>\n</svg>\n",
      "text/plain": "<graphviz.graphs.Digraph at 0x10ae7a250>"
     },
     "execution_count": 6,
     "metadata": {},
     "output_type": "execute_result"
    }
   ],
   "source": [
    "darts_estimator.set_params(\n",
    "    max_epochs=0,  # no epochs of architecture fitting\n",
    "    param_updates_for_sampled_model=1000,  # 1000 steps of param optimiziation\n",
    ")\n",
    "darts_estimator.fit(X, y)\n",
    "darts_estimator.visualize_model()"
   ],
   "metadata": {
    "collapsed": false,
    "ExecuteTime": {
     "start_time": "2023-04-27T15:43:56.715308Z",
     "end_time": "2023-04-27T15:43:56.910283Z"
    }
   }
  },
  {
   "cell_type": "markdown",
   "source": [
    "We can also change how the model is sampled from the architecture weight distribution:"
   ],
   "metadata": {
    "collapsed": false
   }
  },
  {
   "cell_type": "code",
   "execution_count": 7,
   "outputs": [
    {
     "data": {
      "text/plain": "0it [00:00, ?it/s]",
      "application/vnd.jupyter.widget-view+json": {
       "version_major": 2,
       "version_minor": 0,
       "model_id": "adc84141f53c4bcba4a7d3147409de9c"
      }
     },
     "metadata": {},
     "output_type": "display_data"
    },
    {
     "data": {
      "image/svg+xml": "<?xml version=\"1.0\" encoding=\"UTF-8\" standalone=\"no\"?>\n<!DOCTYPE svg PUBLIC \"-//W3C//DTD SVG 1.1//EN\"\n \"http://www.w3.org/Graphics/SVG/1.1/DTD/svg11.dtd\">\n<!-- Generated by graphviz version 8.0.4 (20230421.1958)\n -->\n<!-- Pages: 1 -->\n<svg width=\"532pt\" height=\"98pt\"\n viewBox=\"0.00 0.00 531.50 98.00\" xmlns=\"http://www.w3.org/2000/svg\" xmlns:xlink=\"http://www.w3.org/1999/xlink\">\n<g id=\"graph0\" class=\"graph\" transform=\"scale(1 1) rotate(0) translate(4 94)\">\n<polygon fill=\"white\" stroke=\"none\" points=\"-4,4 -4,-94 527.5,-94 527.5,4 -4,4\"/>\n<!-- x1 -->\n<g id=\"node1\" class=\"node\">\n<title>x1</title>\n<polygon fill=\"#f1edb9\" stroke=\"black\" stroke-width=\"2\" points=\"37,-90 0,-90 0,-54 37,-54 37,-90\"/>\n<text text-anchor=\"middle\" x=\"18.5\" y=\"-63.5\" font-family=\"times\" font-size=\"20.00\">x1</text>\n</g>\n<!-- k1 -->\n<g id=\"node3\" class=\"node\">\n<title>k1</title>\n<polygon fill=\"#bbccf9\" stroke=\"black\" stroke-width=\"2\" points=\"194,-63 157,-63 157,-27 194,-27 194,-63\"/>\n<text text-anchor=\"middle\" x=\"175.5\" y=\"-36.5\" font-family=\"times\" font-size=\"20.00\">k1</text>\n</g>\n<!-- x1&#45;&gt;k1 -->\n<g id=\"edge1\" class=\"edge\">\n<title>x1&#45;&gt;k1</title>\n<path fill=\"none\" stroke=\"black\" d=\"M37.89,-68.8C64.46,-64.17 113.84,-55.57 145.39,-50.07\"/>\n<polygon fill=\"gray\" stroke=\"black\" points=\"145.88,-53.36 155.13,-48.2 144.68,-46.47 145.88,-53.36\"/>\n<text text-anchor=\"middle\" x=\"97\" y=\"-67\" font-family=\"times\" font-size=\"20.00\">+ x</text>\n</g>\n<!-- x2 -->\n<g id=\"node2\" class=\"node\">\n<title>x2</title>\n<polygon fill=\"#f1edb9\" stroke=\"black\" stroke-width=\"2\" points=\"37,-36 0,-36 0,0 37,0 37,-36\"/>\n<text text-anchor=\"middle\" x=\"18.5\" y=\"-9.5\" font-family=\"times\" font-size=\"20.00\">x2</text>\n</g>\n<!-- x2&#45;&gt;k1 -->\n<g id=\"edge2\" class=\"edge\">\n<title>x2&#45;&gt;k1</title>\n<path fill=\"none\" stroke=\"black\" d=\"M37.72,-16.87C61.51,-15.92 104.22,-16.03 139,-26 141.49,-26.72 144.01,-27.62 146.49,-28.65\"/>\n<polygon fill=\"gray\" stroke=\"black\" points=\"144.81,-32.21 155.34,-33.38 147.84,-25.9 144.81,-32.21\"/>\n<text text-anchor=\"middle\" x=\"97\" y=\"-28\" font-family=\"times\" font-size=\"20.00\">logistic(x)</text>\n</g>\n<!-- P(detected) = (x + 0.00) -->\n<g id=\"node4\" class=\"node\">\n<title>P(detected) = (x + 0.00)</title>\n<polygon fill=\"#cbe7c7\" stroke=\"black\" stroke-width=\"2\" points=\"523.5,-63 296.75,-63 296.75,-27 523.5,-27 523.5,-63\"/>\n<text text-anchor=\"middle\" x=\"410.12\" y=\"-36.5\" font-family=\"times\" font-size=\"20.00\">P(detected) = (x + 0.00)</text>\n</g>\n<!-- k1&#45;&gt;P(detected) = (x + 0.00) -->\n<g id=\"edge3\" class=\"edge\">\n<title>k1&#45;&gt;P(detected) = (x + 0.00)</title>\n<path fill=\"none\" stroke=\"black\" d=\"M194.75,-45C215.08,-45 249.79,-45 285.42,-45\"/>\n<polygon fill=\"gray\" stroke=\"black\" points=\"284.99,-48.5 294.99,-45 284.99,-41.5 284.99,-48.5\"/>\n<text text-anchor=\"middle\" x=\"245.38\" y=\"-47\" font-family=\"times\" font-size=\"20.00\">1.00 * x</text>\n</g>\n</g>\n</svg>\n",
      "text/plain": "<graphviz.graphs.Digraph at 0x172908310>"
     },
     "execution_count": 7,
     "metadata": {},
     "output_type": "execute_result"
    }
   ],
   "source": [
    "darts_estimator.set_params(\n",
    "    max_epochs=0,  # no epochs of architecture fitting\n",
    "    sampling_strategy=\"sample\",  # overriding default \"max\"\n",
    "    param_updates_for_sampled_model=800,\n",
    ")\n",
    "darts_estimator.fit(X, y)\n",
    "darts_estimator.visualize_model()"
   ],
   "metadata": {
    "collapsed": false,
    "ExecuteTime": {
     "start_time": "2023-04-27T15:43:56.912772Z",
     "end_time": "2023-04-27T15:43:57.096854Z"
    }
   }
  },
  {
   "cell_type": "markdown",
   "source": [
    "To recover the initial model, we need to return the sampling strategy to the default `\"max\"`:"
   ],
   "metadata": {
    "collapsed": false
   }
  },
  {
   "cell_type": "code",
   "execution_count": 8,
   "outputs": [
    {
     "data": {
      "text/plain": "0it [00:00, ?it/s]",
      "application/vnd.jupyter.widget-view+json": {
       "version_major": 2,
       "version_minor": 0,
       "model_id": "d71ab3ae6a134259b995e724ec14e228"
      }
     },
     "metadata": {},
     "output_type": "display_data"
    },
    {
     "data": {
      "image/svg+xml": "<?xml version=\"1.0\" encoding=\"UTF-8\" standalone=\"no\"?>\n<!DOCTYPE svg PUBLIC \"-//W3C//DTD SVG 1.1//EN\"\n \"http://www.w3.org/Graphics/SVG/1.1/DTD/svg11.dtd\">\n<!-- Generated by graphviz version 8.0.4 (20230421.1958)\n -->\n<!-- Pages: 1 -->\n<svg width=\"503pt\" height=\"98pt\"\n viewBox=\"0.00 0.00 503.00 98.00\" xmlns=\"http://www.w3.org/2000/svg\" xmlns:xlink=\"http://www.w3.org/1999/xlink\">\n<g id=\"graph0\" class=\"graph\" transform=\"scale(1 1) rotate(0) translate(4 94)\">\n<polygon fill=\"white\" stroke=\"none\" points=\"-4,4 -4,-94 499,-94 499,4 -4,4\"/>\n<!-- x1 -->\n<g id=\"node1\" class=\"node\">\n<title>x1</title>\n<polygon fill=\"#f1edb9\" stroke=\"black\" stroke-width=\"2\" points=\"37,-90 0,-90 0,-54 37,-54 37,-90\"/>\n<text text-anchor=\"middle\" x=\"18.5\" y=\"-63.5\" font-family=\"times\" font-size=\"20.00\">x1</text>\n</g>\n<!-- k1 -->\n<g id=\"node3\" class=\"node\">\n<title>k1</title>\n<polygon fill=\"#bbccf9\" stroke=\"black\" stroke-width=\"2\" points=\"165.5,-63 128.5,-63 128.5,-27 165.5,-27 165.5,-63\"/>\n<text text-anchor=\"middle\" x=\"147\" y=\"-36.5\" font-family=\"times\" font-size=\"20.00\">k1</text>\n</g>\n<!-- x1&#45;&gt;k1 -->\n<g id=\"edge1\" class=\"edge\">\n<title>x1&#45;&gt;k1</title>\n<path fill=\"none\" stroke=\"black\" d=\"M37.89,-68.07C58.6,-63.65 92.52,-56.42 116.84,-51.22\"/>\n<polygon fill=\"gray\" stroke=\"black\" points=\"117.53,-54.44 126.58,-48.93 116.07,-47.6 117.53,-54.44\"/>\n<text text-anchor=\"middle\" x=\"82.75\" y=\"-66\" font-family=\"times\" font-size=\"20.00\">exp(x)</text>\n</g>\n<!-- x2 -->\n<g id=\"node2\" class=\"node\">\n<title>x2</title>\n<polygon fill=\"#f1edb9\" stroke=\"black\" stroke-width=\"2\" points=\"37,-36 0,-36 0,0 37,0 37,-36\"/>\n<text text-anchor=\"middle\" x=\"18.5\" y=\"-9.5\" font-family=\"times\" font-size=\"20.00\">x2</text>\n</g>\n<!-- x2&#45;&gt;k1 -->\n<g id=\"edge2\" class=\"edge\">\n<title>x2&#45;&gt;k1</title>\n<path fill=\"none\" stroke=\"black\" d=\"M37.66,-17.84C56.3,-18.13 85.96,-19.84 110.5,-27 112.96,-27.72 115.46,-28.61 117.92,-29.6\"/>\n<polygon fill=\"gray\" stroke=\"black\" points=\"116.2,-33.12 126.74,-34.12 119.12,-26.76 116.2,-33.12\"/>\n<text text-anchor=\"middle\" x=\"82.75\" y=\"-29\" font-family=\"times\" font-size=\"20.00\">exp(x)</text>\n</g>\n<!-- P(detected) = (x + 0.00) -->\n<g id=\"node4\" class=\"node\">\n<title>P(detected) = (x + 0.00)</title>\n<polygon fill=\"#cbe7c7\" stroke=\"black\" stroke-width=\"2\" points=\"495,-63 268.25,-63 268.25,-27 495,-27 495,-63\"/>\n<text text-anchor=\"middle\" x=\"381.62\" y=\"-36.5\" font-family=\"times\" font-size=\"20.00\">P(detected) = (x + 0.00)</text>\n</g>\n<!-- k1&#45;&gt;P(detected) = (x + 0.00) -->\n<g id=\"edge3\" class=\"edge\">\n<title>k1&#45;&gt;P(detected) = (x + 0.00)</title>\n<path fill=\"none\" stroke=\"black\" d=\"M166.25,-45C186.58,-45 221.29,-45 256.92,-45\"/>\n<polygon fill=\"gray\" stroke=\"black\" points=\"256.49,-48.5 266.49,-45 256.49,-41.5 256.49,-48.5\"/>\n<text text-anchor=\"middle\" x=\"216.88\" y=\"-47\" font-family=\"times\" font-size=\"20.00\">1.00 * x</text>\n</g>\n</g>\n</svg>\n",
      "text/plain": "<graphviz.graphs.Digraph at 0x1728d9150>"
     },
     "execution_count": 8,
     "metadata": {},
     "output_type": "execute_result"
    }
   ],
   "source": [
    "darts_estimator.set_params(\n",
    "    max_epochs=0,  # no epochs of architecture fitting\n",
    "    sampling_strategy=\"max\",\n",
    "    param_updates_for_sampled_model=1000,\n",
    ")\n",
    "darts_estimator.fit(X, y)\n",
    "darts_estimator.visualize_model()"
   ],
   "metadata": {
    "collapsed": false,
    "ExecuteTime": {
     "start_time": "2023-04-27T15:43:57.095316Z",
     "end_time": "2023-04-27T15:43:57.334613Z"
    }
   }
  },
  {
   "cell_type": "markdown",
   "source": [
    "As long as the architecture has not been refitted in the meantime, the architecture should be identical to the initial result, as the `sampling_strategy=\"max\"` is deterministic. The coefficients of the architecture functions may, however, be different, as they have different starting values compared to when they were initially set.\n"
   ],
   "metadata": {
    "collapsed": false
   }
  }
 ],
 "metadata": {
  "kernelspec": {
   "display_name": "Python 3",
   "language": "python",
   "name": "python3"
  },
  "language_info": {
   "codemirror_mode": {
    "name": "ipython",
    "version": 2
   },
   "file_extension": ".py",
   "mimetype": "text/x-python",
   "name": "python",
   "nbconvert_exporter": "python",
   "pygments_lexer": "ipython2",
   "version": "2.7.6"
  }
 },
 "nbformat": 4,
 "nbformat_minor": 0
}
