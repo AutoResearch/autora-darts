{
 "cells": [
  {
   "cell_type": "markdown",
   "source": [
    "Example file which shows some simple curve fitting using DARTSRegressor and some other estimators."
   ],
   "metadata": {}
  },
  {
   "cell_type": "code",
   "execution_count": 1,
   "outputs": [],
   "source": [
    "# Uncomment the following line when running on Google Colab\n",
    "# !pip install autora[theorist-darts]"
   ],
   "metadata": {
    "collapsed": false,
    "ExecuteTime": {
     "start_time": "2023-04-27T15:42:55.050837Z",
     "end_time": "2023-04-27T15:42:55.054317Z"
    }
   }
  },
  {
   "cell_type": "code",
   "execution_count": 2,
   "outputs": [],
   "source": [
    "from functools import partial\n",
    "\n",
    "import matplotlib.pyplot as plt\n",
    "import numpy as np\n",
    "import pandas as pd\n",
    "from sklearn.linear_model import LinearRegression\n",
    "from sklearn.model_selection import GridSearchCV\n",
    "from sklearn.pipeline import make_pipeline\n",
    "from sklearn.preprocessing import PolynomialFeatures\n",
    "\n",
    "from autora.theorist.darts import DARTSRegressor\n",
    "from autora.synthetic.inventory import retrieve, describe"
   ],
   "metadata": {
    "ExecuteTime": {
     "start_time": "2023-04-27T15:42:55.055093Z",
     "end_time": "2023-04-27T15:42:56.591189Z"
    }
   }
  },
  {
   "cell_type": "code",
   "execution_count": 3,
   "metadata": {
    "ExecuteTime": {
     "start_time": "2023-04-27T15:42:56.592309Z",
     "end_time": "2023-04-27T15:42:56.595191Z"
    }
   },
   "outputs": [],
   "source": [
    "# %% Define some helper functions\n",
    "\n",
    "def show_results_complete(\n",
    "    data_: pd.DataFrame,\n",
    "    estimator=None,\n",
    "    show_results=True,\n",
    "    projection=\"2d\",\n",
    "    label=None,\n",
    "):\n",
    "    \"\"\"\n",
    "    Function to plot input data (x_, y_) and the predictions of an estimator for the same x_.\n",
    "    \"\"\"\n",
    "    if projection == \"2d\":\n",
    "        plt.figure()\n",
    "        data_.plot.scatter(\n",
    "            \"S1\", \"S2\", c=\"difference_detected\", cmap=\"viridis\", zorder=10\n",
    "        )\n",
    "    elif projection == \"3d\":\n",
    "        fig = plt.figure()\n",
    "        ax = fig.add_subplot(projection=\"3d\")\n",
    "        ax.scatter(data_[\"S1\"], data[\"S2\"], data[\"difference_detected\"])\n",
    "\n",
    "        if estimator is not None:\n",
    "            xs, ys = np.mgrid[0:5:0.2, 0:5:0.2]  # type: ignore\n",
    "\n",
    "            zs = estimator.predict(np.column_stack((xs.ravel(), ys.ravel())))\n",
    "\n",
    "            ax.plot_surface(xs, ys, zs.reshape(xs.shape), alpha=0.5)\n",
    "\n",
    "    if label is not None:\n",
    "        plt.title(label)\n",
    "\n",
    "    if show_results:\n",
    "        plt.show()\n",
    "\n",
    "    return\n"
   ]
  },
  {
   "cell_type": "code",
   "execution_count": 4,
   "outputs": [
    {
     "ename": "KeyError",
     "evalue": "'weber_fechner'",
     "output_type": "error",
     "traceback": [
      "\u001B[0;31m---------------------------------------------------------------------------\u001B[0m",
      "\u001B[0;31mKeyError\u001B[0m                                  Traceback (most recent call last)",
      "Cell \u001B[0;32mIn[4], line 2\u001B[0m\n\u001B[1;32m      1\u001B[0m \u001B[38;5;66;03m# %% Load the data\u001B[39;00m\n\u001B[0;32m----> 2\u001B[0m s \u001B[38;5;241m=\u001B[39m \u001B[43mretrieve\u001B[49m\u001B[43m(\u001B[49m\u001B[38;5;124;43m\"\u001B[39;49m\u001B[38;5;124;43mweber_fechner\u001B[39;49m\u001B[38;5;124;43m\"\u001B[39;49m\u001B[43m,\u001B[49m\u001B[43mrng\u001B[49m\u001B[38;5;241;43m=\u001B[39;49m\u001B[43mnp\u001B[49m\u001B[38;5;241;43m.\u001B[39;49m\u001B[43mrandom\u001B[49m\u001B[38;5;241;43m.\u001B[39;49m\u001B[43mdefault_rng\u001B[49m\u001B[43m(\u001B[49m\u001B[43mseed\u001B[49m\u001B[38;5;241;43m=\u001B[39;49m\u001B[38;5;241;43m180\u001B[39;49m\u001B[43m)\u001B[49m\u001B[43m,\u001B[49m\u001B[43m \u001B[49m\u001B[43mresolution\u001B[49m\u001B[38;5;241;43m=\u001B[39;49m\u001B[38;5;241;43m20\u001B[39;49m\u001B[43m)\u001B[49m\n\u001B[1;32m      3\u001B[0m X \u001B[38;5;241m=\u001B[39m s\u001B[38;5;241m.\u001B[39mdomain()\n\u001B[1;32m      4\u001B[0m y \u001B[38;5;241m=\u001B[39m s\u001B[38;5;241m.\u001B[39mexperiment_runner(X)\n",
      "File \u001B[0;32m~/Developer/autora-darts/venv/lib/python3.11/site-packages/autora/synthetic/inventory.py:177\u001B[0m, in \u001B[0;36mretrieve\u001B[0;34m(id_, **kwargs)\u001B[0m\n\u001B[1;32m    167\u001B[0m \u001B[38;5;28;01mdef\u001B[39;00m \u001B[38;5;21mretrieve\u001B[39m(id_: \u001B[38;5;28mstr\u001B[39m, \u001B[38;5;241m*\u001B[39m\u001B[38;5;241m*\u001B[39mkwargs) \u001B[38;5;241m-\u001B[39m\u001B[38;5;241m>\u001B[39m SyntheticExperimentCollection:\n\u001B[1;32m    168\u001B[0m \u001B[38;5;250m    \u001B[39m\u001B[38;5;124;03m\"\"\"\u001B[39;00m\n\u001B[1;32m    169\u001B[0m \u001B[38;5;124;03m    Retrieve a synthetic experiment from the Inventory.\u001B[39;00m\n\u001B[1;32m    170\u001B[0m \n\u001B[0;32m   (...)\u001B[0m\n\u001B[1;32m    175\u001B[0m \u001B[38;5;124;03m        the synthetic experiment\u001B[39;00m\n\u001B[1;32m    176\u001B[0m \u001B[38;5;124;03m    \"\"\"\u001B[39;00m\n\u001B[0;32m--> 177\u001B[0m     closure: _SyntheticExperimentClosure \u001B[38;5;241m=\u001B[39m \u001B[43mInventory\u001B[49m\u001B[43m[\u001B[49m\u001B[43mid_\u001B[49m\u001B[43m]\u001B[49m\n\u001B[1;32m    178\u001B[0m     evaluated_closure \u001B[38;5;241m=\u001B[39m closure(\u001B[38;5;241m*\u001B[39m\u001B[38;5;241m*\u001B[39mkwargs)\n\u001B[1;32m    179\u001B[0m     evaluated_closure\u001B[38;5;241m.\u001B[39mclosure \u001B[38;5;241m=\u001B[39m closure\n",
      "\u001B[0;31mKeyError\u001B[0m: 'weber_fechner'"
     ]
    }
   ],
   "source": [
    "# %% Load the data\n",
    "s = retrieve(\"weber_fechner\",rng=np.random.default_rng(seed=180), resolution=20)\n",
    "X = s.domain()\n",
    "y = s.experiment_runner(X)\n",
    "data = pd.DataFrame(np.column_stack([X, y]), columns=[\"S1\", \"S2\", \"difference_detected\"])"
   ],
   "metadata": {
    "collapsed": false
   }
  },
  {
   "cell_type": "code",
   "execution_count": null,
   "outputs": [],
   "source": [
    "show_results = partial(show_results_complete, data_=data, projection=\"3d\")\n",
    "show_results(label=\"input data\")"
   ],
   "metadata": {
    "collapsed": false
   }
  },
  {
   "cell_type": "code",
   "execution_count": null,
   "metadata": {},
   "outputs": [],
   "source": [
    "# %% Fit first using a super-simple linear regression\n",
    "\n",
    "first_order_linear_estimator = LinearRegression()\n",
    "first_order_linear_estimator.fit(X, y)\n",
    "\n",
    "show_results(estimator=first_order_linear_estimator, label=\"1st order linear\")"
   ]
  },
  {
   "cell_type": "code",
   "execution_count": null,
   "metadata": {},
   "outputs": [],
   "source": [
    "# %% Fit using a 0-3 order polynomial, getting the best fit for the data.\n",
    "polynomial_estimator = GridSearchCV(\n",
    "    make_pipeline(PolynomialFeatures(), LinearRegression(fit_intercept=False)),\n",
    "    param_grid=dict(polynomialfeatures__degree=range(4)),\n",
    ")\n",
    "polynomial_estimator.fit(X, y)\n",
    "\n",
    "show_results(estimator=polynomial_estimator, label=\"[0th-3rd]-order linear\")"
   ]
  },
  {
   "cell_type": "code",
   "execution_count": null,
   "outputs": [],
   "source": [
    "darts_estimator_tuned = DARTSRegressor(\n",
    "    batch_size=64,\n",
    "    arch_updates_per_epoch=100,\n",
    "    param_updates_per_epoch=100,\n",
    "    max_epochs=30,\n",
    "    output_type=\"probability\",\n",
    "    num_graph_nodes=5,\n",
    "    primitives=[\n",
    "        \"none\",\n",
    "        \"linear\",\n",
    "        \"logistic\",\n",
    "        ]\n",
    ")\n",
    "\n",
    "darts_estimator_tuned.fit(X, y)\n",
    "\n",
    "show_results(estimator=darts_estimator_tuned, label=\"pre-tuned DARTSRegressor\")\n",
    "darts_estimator_tuned.visualize_model()"
   ],
   "metadata": {
    "collapsed": false
   }
  },
  {
   "cell_type": "code",
   "execution_count": null,
   "outputs": [],
   "source": [
    "darts_estimator_tuned.set_params(\n",
    "    arch_updates_per_epoch=0,\n",
    "    param_updates_per_epoch=1000,\n",
    "    sampling_strategy=\"sample\",\n",
    "    max_epochs=1\n",
    ")\n",
    "darts_estimator_tuned.fit(X, y)\n",
    "show_results(estimator=darts_estimator_tuned, label=\"resampled DARTSRegressor\")\n",
    "darts_estimator_tuned.visualize_model()\n"
   ],
   "metadata": {
    "collapsed": false
   }
  },
  {
   "cell_type": "code",
   "execution_count": null,
   "outputs": [],
   "source": [
    "darts_estimator_tuned.set_params(\n",
    "    arch_updates_per_epoch=0,\n",
    "    param_updates_per_epoch=1000,\n",
    "    sampling_strategy=\"max\",\n",
    "    max_epochs=0\n",
    ")\n",
    "darts_estimator_tuned.fit(X, y)\n",
    "show_results(estimator=darts_estimator_tuned, label=\"resampled DARTSRegressor\")\n",
    "darts_estimator_tuned.visualize_model()\n"
   ],
   "metadata": {
    "collapsed": false
   }
  }
 ],
 "metadata": {
  "kernelspec": {
   "display_name": "Python 3 (ipykernel)",
   "language": "python",
   "name": "python3"
  },
  "language_info": {
   "codemirror_mode": {
    "name": "ipython",
    "version": 3
   },
   "file_extension": ".py",
   "mimetype": "text/x-python",
   "name": "python",
   "nbconvert_exporter": "python",
   "pygments_lexer": "ipython3",
   "version": "3.8.13"
  }
 },
 "nbformat": 4,
 "nbformat_minor": 1
}
